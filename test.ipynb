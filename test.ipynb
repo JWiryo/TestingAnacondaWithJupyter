{
 "cells": [
  {
   "cell_type": "code",
   "execution_count": 1,
   "metadata": {
    "collapsed": false
   },
   "outputs": [
    {
     "name": "stdout",
     "output_type": "stream",
     "text": [
      "['Title', 'Release Date', 'Director']\n['And Now For Something Completely Different', '1971', 'Ian MacNaughton']\n['Monty Python And The Holy Grail', '1975', 'Terry Gilliam and Terry Jones']\n[\"Monty Python's Life Of Brian\", '1979', 'Terry Jones']\n['Monty Python Live At The Hollywood Bowl', '1982', 'Terry Hughes']\n[\"Monty Python's The Meaning Of Life\", '1983', 'Terry Jones']\n"
     ]
    }
   ],
   "source": [
    "import csv\n",
    "\n",
    "with open('test.csv') as csvfile:\n",
    "    readCSV = csv.reader(csvfile, delimiter=',')\n",
    "    for row in readCSV:\n",
    "        print(row)"
   ]
  }
 ],
 "metadata": {},
 "nbformat": 4,
 "nbformat_minor": 2
}
