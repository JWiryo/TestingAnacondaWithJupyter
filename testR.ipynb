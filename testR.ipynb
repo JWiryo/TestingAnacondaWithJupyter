{
 "cells": [
  {
   "cell_type": "code",
   "execution_count": null,
   "metadata": {},
   "outputs": [],
   "source": [
    "library(openxlsx)\n",
    "\n",
    "> df = data.frame(matrix(rnorm(20), nrow=10))\n",
    "\n",
    "# read data from an Excel file or Workbook object into a data.frame\n",
    "df <- read.xlsx('name-of-your-excel-file.xlsx')\n",
    "\n",
    "# for writing a data.frame or list of data.frames to an xlsx file\n",
    "write.xlsx(df, 'name-of-your-excel-file.xlsx')"
   ]
  },
  {
   "cell_type": "code",
   "execution_count": null,
   "metadata": {},
   "outputs": [],
   "source": []
  }
 ],
 "metadata": {
  "kernelspec": {
   "display_name": "R",
   "language": "R",
   "name": "ir"
  }
 },
 "nbformat": 4,
 "nbformat_minor": 2
}
