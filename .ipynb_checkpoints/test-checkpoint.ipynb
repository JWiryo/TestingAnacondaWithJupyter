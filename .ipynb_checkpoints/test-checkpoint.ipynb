{
 "cells": [
  {
   "cell_type": "code",
   "execution_count": 1,
   "metadata": {},
   "outputs": [
    {
     "name": "stdout",
     "output_type": "stream",
     "text": [
      "['Title', 'Release Date', 'Director']\n",
      "['And Now For Something Completely Different', '1971', 'Ian MacNaughton']\n",
      "['Monty Python And The Holy Grail', '1975', 'Terry Gilliam and Terry Jones']\n",
      "[\"Monty Python's Life Of Brian\", '1979', 'Terry Jones']\n",
      "['Monty Python Live At The Hollywood Bowl', '1982', 'Terry Hughes']\n",
      "[\"Monty Python's The Meaning Of Life\", '1983', 'Terry Jones']\n"
     ]
    }
   ],
   "source": [
    "import csv\n",
    "\n",
    "with open('test.csv') as csvfile:\n",
    "    readCSV = csv.reader(csvfile, delimiter=',')\n",
    "    for row in readCSV:\n",
    "        print(row)"
   ]
  },
  {
   "cell_type": "code",
   "execution_count": 4,
   "metadata": {},
   "outputs": [
    {
     "name": "stdout",
     "output_type": "stream",
     "text": [
      "[0, 5, 10, 15, 20, 25, 30, 35]\n"
     ]
    }
   ],
   "source": [
    "distData = [3.6, 4.2, 15.8, 9.6, 36.5]\n",
    "\n",
    "rangeDistributionList = []\n",
    "\n",
    "for i in range(0, int(max(distData)), 5):\n",
    "    rangeDistributionList.append(i)\n",
    "\n",
    "print(rangeDistributionList);\n",
    "\n",
    "timeData = [toDate()]"
   ]
  },
  {
   "cell_type": "code",
   "execution_count": 25,
   "metadata": {},
   "outputs": [
    {
     "name": "stdout",
     "output_type": "stream",
     "text": [
      "[[3.6, datetime.datetime(2017, 6, 18, 13, 33)], [15.8, datetime.datetime(2017, 6, 17, 14, 34)], [36.5, datetime.datetime(2017, 6, 18, 1, 15)]]\n"
     ]
    }
   ],
   "source": [
    "from datetime import date, datetime, timedelta\n",
    "from datetime import time\n",
    "\n",
    "datetime_object = datetime.strptime('Jun 18 2017  1:33PM', '%b %d %Y %I:%M%p')\n",
    "datetime_object2 = datetime.strptime('Jun 17 2017  2:34PM', '%b %d %Y %I:%M%p')\n",
    "datetime_object3 = datetime.strptime('Jun 18 2017  1:15AM', '%b %d %Y %I:%M%p')\n",
    "\n",
    "distDataWithTime = [[3.6, datetime_object], [15.8, datetime_object2], [36.5,datetime_object3]]\n",
    "print(distDataWithTime)"
   ]
  },
  {
   "cell_type": "code",
   "execution_count": 18,
   "metadata": {},
   "outputs": [
    {
     "name": "stdout",
     "output_type": "stream",
     "text": [
      "23:00:00\n"
     ]
    }
   ],
   "source": [
    "time1 = time(0,0)\n",
    "timeList = []\n",
    "\n",
    "for i in range(24):\n",
    "    timeList.append(time(i,0))\n",
    "    \n",
    "print(timeList[23])"
   ]
  },
  {
   "cell_type": "code",
   "execution_count": 35,
   "metadata": {},
   "outputs": [
    {
     "name": "stdout",
     "output_type": "stream",
     "text": [
      "defaultdict(<class 'list'>, {'[datetime.time(13, 0), 0]': [[3.6, datetime.datetime(2017, 6, 18, 13, 33)]], '[datetime.time(14, 0), 15]': [[15.8, datetime.datetime(2017, 6, 17, 14, 34)]], '[datetime.time(1, 0), 35]': [[36.5, datetime.datetime(2017, 6, 18, 1, 15)]]})\n"
     ]
    }
   ],
   "source": [
    "from collections import defaultdict\n",
    "\n",
    "resultDictWithTime = defaultdict(list)\n",
    "\n",
    "for i in distDataWithTime:\n",
    "    for j in rangeDistributionList:\n",
    "        for k in timeList:\n",
    "            if j <= i[0] < j+5 and k <= i[1].time() < (datetime.combine(date.today(), k) + timedelta(hours=1)).time():\n",
    "                resultDictWithTime[repr([k,j])].append(i)\n",
    "\n",
    "print(resultDictWithTime)"
   ]
  },
  {
   "cell_type": "code",
   "execution_count": 6,
   "metadata": {},
   "outputs": [
    {
     "name": "stdout",
     "output_type": "stream",
     "text": [
      "defaultdict(<class 'list'>, {0: [3.6, 4.2], 15: [15.8], 5: [9.6], 35: [36.5]})\n"
     ]
    }
   ],
   "source": [
    "resultDict = defaultdict(list)\n",
    "\n",
    "for i in distData:\n",
    "    for j in rangeDistributionList:\n",
    "        if j <= i < j+5:\n",
    "            resultDict[j].append(i)\n",
    "\n",
    "print(resultDict)"
   ]
  }
 ],
 "metadata": {
  "kernelspec": {
   "display_name": "Python 3",
   "language": "python",
   "name": "python3"
  },
  "language_info": {
   "codemirror_mode": {
    "name": "ipython",
    "version": 3
   },
   "file_extension": ".py",
   "mimetype": "text/x-python",
   "name": "python",
   "nbconvert_exporter": "python",
   "pygments_lexer": "ipython3",
   "version": "3.6.4"
  }
 },
 "nbformat": 4,
 "nbformat_minor": 2
}
